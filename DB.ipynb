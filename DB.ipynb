{
 "cells": [
  {
   "cell_type": "markdown",
   "id": "ab4ef4da",
   "metadata": {},
   "source": [
    "# 모듈\n",
    "\n",
    "abc.py를 하나의 모듈로 생각해서\n",
    "import를 통해 다른 파일에 있는 함수 등을 사용할 수 있다.\n"
   ]
  },
  {
   "cell_type": "markdown",
   "id": "0bca2fe5",
   "metadata": {},
   "source": [
    "# 패키지\n",
    "모듈을 모은 것이 패키지"
   ]
  },
  {
   "cell_type": "markdown",
   "id": "6bd93868",
   "metadata": {},
   "source": [
    "# 라이브러리\n"
   ]
  },
  {
   "cell_type": "markdown",
   "id": "4ee95c2a",
   "metadata": {},
   "source": [
    "# 데이터베이스"
   ]
  },
  {
   "cell_type": "markdown",
   "id": "1b816424",
   "metadata": {},
   "source": [
    "* 데이터 = 하나하나의 단편적인 정보를 뜻한다. 정보는 있으나 체계화 되지 못한 상태\n",
    "* 테이블 = 테이블 회원이나 제품의 데이터를 입력하기 위해 표 형태로 표현한 것\n",
    "* 데이터베이스(DB) = 테이블이 저장되는 저장소. 각 데이터 베이스는 각각의 고유한 이름을 가진다.\n",
    "* <span style=\"color:red\">DBMS = 데이터베이스를 관리하는 시스템 또는 소프트웨어(MySQL) 등</span>\n",
    "* 열(컬럼. 필드) = 각 테이블은 열로 구성되어 있다. 아이디, 회원정보 주소 등\n",
    "* 열 이름: 각 열을 구분하기 위한 이름\n",
    "* 데이터 형식: 열의 데이터 형식(숫자, 문자 등) 테이블을 생성할 때 지정해 줘야 한다.\n",
    "* 행 (로우, 레코드): 실질적인 데이터(아이디, 회원명, 주소, 전화번호 등)\n",
    "* 기본 키(Primery key): 기본키는 열은 각행을 구분하는 유일한 열을 말한다. 중복되어서는 안되며, 비어 있어서도 안된다.<br>\n",
    "    테이블에는 하나만 지정되어 있어야 한다.\n",
    "* 외래키(Foreign key): 두 테이블의 관계를 맺어 주는 키\n",
    "* SQL(구조화된 질의언어): DBMS에 작업을 하고 싶을때 알아듣게 하는 언어"
   ]
  },
  {
   "cell_type": "code",
   "execution_count": null,
   "id": "b9a8dde7",
   "metadata": {},
   "outputs": [],
   "source": []
  }
 ],
 "metadata": {
  "kernelspec": {
   "display_name": "Python 3 (ipykernel)",
   "language": "python",
   "name": "python3"
  },
  "language_info": {
   "codemirror_mode": {
    "name": "ipython",
    "version": 3
   },
   "file_extension": ".py",
   "mimetype": "text/x-python",
   "name": "python",
   "nbconvert_exporter": "python",
   "pygments_lexer": "ipython3",
   "version": "3.9.13"
  }
 },
 "nbformat": 4,
 "nbformat_minor": 5
}
